{
 "cells": [
  {
   "cell_type": "code",
   "execution_count": 2,
   "metadata": {},
   "outputs": [],
   "source": [
    "import matplotlib.pyplot as plt\n",
    "import tensorflow.keras as keras\n",
    "import numpy as np\n",
    "\n",
    "import glob\n",
    "import os, os.path\n",
    "from os.path import basename\n",
    "import pandas as pd\n",
    "import matplotlib.pyplot as plt\n",
    "import PIL.Image\n",
    "\n",
    "from PIL import Image"
   ]
  },
  {
   "cell_type": "code",
   "execution_count": 6,
   "metadata": {},
   "outputs": [
    {
     "data": {
      "text/plain": [
       "'/home/aprameyo/Weekly_exercises/Week9'"
      ]
     },
     "execution_count": 6,
     "metadata": {},
     "output_type": "execute_result"
    }
   ],
   "source": [
    "pwd"
   ]
  },
  {
   "cell_type": "code",
   "execution_count": 4,
   "metadata": {},
   "outputs": [],
   "source": [
    "# selection of images corresponding to labels\n",
    "\n",
    "BASE_DIR = '/home/aprameyo/3d_reconstruction'\n",
    "train_folder = BASE_DIR+'/images'\n",
    "labels = BASE_DIR+'/labels'\n",
    "\n",
    "files_in_train_folder = sorted(os.listdir(train_folder))\n",
    "files_in_labels = sorted(os.listdir(labels))\n",
    "images_train=[i for i in files_in_train_folder if i in files_in_labels]\n",
    "\n",
    "images_label=[i for i in files_in_labels if i in files_in_train_folder]\n"
   ]
  },
  {
   "cell_type": "code",
   "execution_count": 5,
   "metadata": {},
   "outputs": [
    {
     "data": {
      "text/plain": [
       "['.ipynb_checkpoints',\n",
       " '121.png',\n",
       " '241.png',\n",
       " '270.png',\n",
       " '272.png',\n",
       " '274.png',\n",
       " '278.png',\n",
       " '284.png',\n",
       " '287.png',\n",
       " '300.png',\n",
       " '301.png',\n",
       " '303.png',\n",
       " '308.png',\n",
       " '314.png',\n",
       " '315.png',\n",
       " '317.png',\n",
       " '320.png',\n",
       " '324.png',\n",
       " '328.png',\n",
       " '337.png',\n",
       " '343.png',\n",
       " '345.png',\n",
       " '379.png',\n",
       " '381.png',\n",
       " '417.png',\n",
       " '532.png']"
      ]
     },
     "execution_count": 5,
     "metadata": {},
     "output_type": "execute_result"
    }
   ],
   "source": [
    "images_train"
   ]
  }
 ],
 "metadata": {
  "kernelspec": {
   "display_name": "Python 3",
   "language": "python",
   "name": "python3"
  },
  "language_info": {
   "codemirror_mode": {
    "name": "ipython",
    "version": 3
   },
   "file_extension": ".py",
   "mimetype": "text/x-python",
   "name": "python",
   "nbconvert_exporter": "python",
   "pygments_lexer": "ipython3",
   "version": "3.8.5"
  }
 },
 "nbformat": 4,
 "nbformat_minor": 4
}
